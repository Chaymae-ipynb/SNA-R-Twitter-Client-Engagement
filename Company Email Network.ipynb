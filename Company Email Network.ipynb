{
 "cells": [
  {
   "cell_type": "markdown",
   "id": "6474398c-07ad-46ef-9160-2735ff9e0135",
   "metadata": {},
   "source": [
    "## Network Analysis Project "
   ]
  },
  {
   "cell_type": "markdown",
   "id": "abeab6e6-dcc7-47f9-a6c9-9363390ed76a",
   "metadata": {},
   "source": [
    "#### About the dataset \n",
    "I will be working with a company's email network dataset (fictional dataset; online source) where each node corresponds to a person at the company, and each edge indicates that at least one email has been sent between two people.\n",
    "\n",
    "The network also contains the node attributes `Department` and `ManagmentSalary`.\n",
    "\n",
    "`Department` indicates the department in the company which the person belongs to, and `ManagmentSalary` indicates whether that person is receiving a managment position salary."
   ]
  },
  {
   "cell_type": "code",
   "execution_count": 1,
   "id": "4b3d5dbf-59a2-43ef-b1f9-4d900877f97b",
   "metadata": {},
   "outputs": [],
   "source": [
    "import networkx as nx\n",
    "import pandas as pd\n",
    "import numpy as np\n",
    "import pickle"
   ]
  },
  {
   "cell_type": "code",
   "execution_count": 2,
   "id": "ba214a41-f724-466f-a2cd-7053309cdbdb",
   "metadata": {},
   "outputs": [
    {
     "name": "stdout",
     "output_type": "stream",
     "text": [
      "Graph with 1005 nodes and 16706 edges\n"
     ]
    }
   ],
   "source": [
    "G = pickle.load(open('assets/email_prediction_NEW.txt', 'rb'))\n",
    "\n",
    "print(f\"Graph with {len(nx.nodes(G))} nodes and {len(nx.edges(G))} edges\")"
   ]
  },
  {
   "cell_type": "markdown",
   "id": "452615c8-75ed-4bc0-90a3-449bbd7c1642",
   "metadata": {},
   "source": [
    "### Part 1 - Salary Prediction\n",
    "\n",
    "Using network `G`, I will be identifying the people in the network with missing values for the node attribute `ManagementSalary` and predicting whether or not these individuals are receiving a managment position salary."
   ]
  },
  {
   "cell_type": "code",
   "execution_count": 3,
   "id": "bf772efe-d18d-4a39-9e0e-87e7d4d5a894",
   "metadata": {},
   "outputs": [
    {
     "data": {
      "text/plain": [
       "[(0, {'Department': 1, 'ManagementSalary': 0.0}),\n",
       " (1, {'Department': 1, 'ManagementSalary': nan}),\n",
       " (581, {'Department': 3, 'ManagementSalary': 0.0}),\n",
       " (6, {'Department': 25, 'ManagementSalary': 1.0}),\n",
       " (65, {'Department': 4, 'ManagementSalary': nan})]"
      ]
     },
     "execution_count": 3,
     "metadata": {},
     "output_type": "execute_result"
    }
   ],
   "source": [
    "list(G.nodes(data=True))[:5]"
   ]
  },
  {
   "cell_type": "code",
   "execution_count": 4,
   "id": "bfdf0320-1732-4e48-8df3-d611baaf0e14",
   "metadata": {},
   "outputs": [
    {
     "data": {
      "text/plain": [
       "1      0.050915\n",
       "65     0.986815\n",
       "18     0.542332\n",
       "215    0.986815\n",
       "283    0.986220\n",
       "         ...   \n",
       "691    0.008366\n",
       "788    0.008597\n",
       "944    0.008366\n",
       "798    0.008366\n",
       "808    0.008366\n",
       "Length: 252, dtype: float64"
      ]
     },
     "execution_count": 4,
     "metadata": {},
     "output_type": "execute_result"
    }
   ],
   "source": [
    "def salary_predictions():\n",
    "    from sklearn.preprocessing import StandardScaler\n",
    "    from sklearn.ensemble import RandomForestClassifier\n",
    "    from sklearn.ensemble import GradientBoostingClassifier\n",
    "\n",
    "    input_data = pd.DataFrame()\n",
    "    target = nx.get_node_attributes(G, 'ManagementSalary')\n",
    "    degree_centrality = nx.degree_centrality(G)\n",
    "    closeness_centrality = nx.closeness_centrality(G)\n",
    "    betweenness_centrality = nx.betweenness_centrality(G)\n",
    "    for node in target.keys():\n",
    "        row_features = pd.DataFrame([[degree_centrality[node], closeness_centrality[node],\n",
    "                                      betweenness_centrality[node], target[node]]], index=[node])\n",
    "        input_data = pd.concat([input_data, row_features], axis=0)\n",
    "    train_data = input_data[~input_data[3].isnull()]\n",
    "    test_data = input_data[input_data[3].isnull()]\n",
    "    clf = GradientBoostingClassifier()\n",
    "    clf.fit(train_data[[0,1,2]].values, train_data[3].values)\n",
    "    preds = clf.predict_proba(test_data[[0,1,2]].values)[:,1]  \n",
    "    return pd.Series(preds, index=test_data.index)\n",
    "\n",
    "salary_predictions()"
   ]
  },
  {
   "cell_type": "markdown",
   "id": "627badff-b503-4d2b-a61c-28e611ae3014",
   "metadata": {},
   "source": [
    "### Part 2 - New Connections Prediction\n",
    "\n",
    "For the last part of this project, I will be predicting future connections between employees of the network. (1.0 indicates a future connection)"
   ]
  },
  {
   "cell_type": "code",
   "execution_count": 5,
   "id": "fe3b265d-cfef-444b-8687-bd72d9580b2d",
   "metadata": {},
   "outputs": [
    {
     "data": {
      "text/html": [
       "<div>\n",
       "<style scoped>\n",
       "    .dataframe tbody tr th:only-of-type {\n",
       "        vertical-align: middle;\n",
       "    }\n",
       "\n",
       "    .dataframe tbody tr th {\n",
       "        vertical-align: top;\n",
       "    }\n",
       "\n",
       "    .dataframe thead th {\n",
       "        text-align: right;\n",
       "    }\n",
       "</style>\n",
       "<table border=\"1\" class=\"dataframe\">\n",
       "  <thead>\n",
       "    <tr style=\"text-align: right;\">\n",
       "      <th></th>\n",
       "      <th>Future Connection</th>\n",
       "    </tr>\n",
       "  </thead>\n",
       "  <tbody>\n",
       "    <tr>\n",
       "      <th>(6, 840)</th>\n",
       "      <td>0.0</td>\n",
       "    </tr>\n",
       "    <tr>\n",
       "      <th>(4, 197)</th>\n",
       "      <td>0.0</td>\n",
       "    </tr>\n",
       "    <tr>\n",
       "      <th>(620, 979)</th>\n",
       "      <td>0.0</td>\n",
       "    </tr>\n",
       "    <tr>\n",
       "      <th>(519, 872)</th>\n",
       "      <td>0.0</td>\n",
       "    </tr>\n",
       "    <tr>\n",
       "      <th>(382, 423)</th>\n",
       "      <td>0.0</td>\n",
       "    </tr>\n",
       "    <tr>\n",
       "      <th>(97, 226)</th>\n",
       "      <td>1.0</td>\n",
       "    </tr>\n",
       "    <tr>\n",
       "      <th>(349, 905)</th>\n",
       "      <td>0.0</td>\n",
       "    </tr>\n",
       "    <tr>\n",
       "      <th>(429, 860)</th>\n",
       "      <td>0.0</td>\n",
       "    </tr>\n",
       "    <tr>\n",
       "      <th>(309, 989)</th>\n",
       "      <td>0.0</td>\n",
       "    </tr>\n",
       "    <tr>\n",
       "      <th>(468, 880)</th>\n",
       "      <td>0.0</td>\n",
       "    </tr>\n",
       "  </tbody>\n",
       "</table>\n",
       "</div>"
      ],
      "text/plain": [
       "            Future Connection\n",
       "(6, 840)                  0.0\n",
       "(4, 197)                  0.0\n",
       "(620, 979)                0.0\n",
       "(519, 872)                0.0\n",
       "(382, 423)                0.0\n",
       "(97, 226)                 1.0\n",
       "(349, 905)                0.0\n",
       "(429, 860)                0.0\n",
       "(309, 989)                0.0\n",
       "(468, 880)                0.0"
      ]
     },
     "execution_count": 5,
     "metadata": {},
     "output_type": "execute_result"
    }
   ],
   "source": [
    "future_connections = pd.read_csv('assets/Future_Connections.csv', index_col=0, converters={0: eval})\n",
    "future_connections.head(10)"
   ]
  },
  {
   "cell_type": "markdown",
   "id": "a4951cab-db35-4f3d-a099-72ae1a13f555",
   "metadata": {},
   "source": [
    "#### Gradient Boosting Classifier"
   ]
  },
  {
   "cell_type": "markdown",
   "id": "db83825e-2357-456f-916e-0f13155ff616",
   "metadata": {},
   "source": [
    "Using network `G` and `future_connections`, I will be identifying the edges in `future_connections` with missing values and predicting whether or not these edges will have a future connection."
   ]
  },
  {
   "cell_type": "code",
   "execution_count": 6,
   "id": "276cef96-e503-4a40-a2a7-92f9dcc081b9",
   "metadata": {},
   "outputs": [
    {
     "data": {
      "text/plain": [
       "(107, 348)    0.031823\n",
       "(542, 751)    0.012931\n",
       "(20, 426)     0.543026\n",
       "(50, 989)     0.013104\n",
       "(942, 986)    0.013103\n",
       "                ...   \n",
       "(165, 923)    0.013183\n",
       "(673, 755)    0.013103\n",
       "(939, 940)    0.013103\n",
       "(555, 905)    0.012931\n",
       "(75, 101)     0.017730\n",
       "Length: 122112, dtype: float64"
      ]
     },
     "execution_count": 6,
     "metadata": {},
     "output_type": "execute_result"
    }
   ],
   "source": [
    "def new_connections_predictions():\n",
    "    from sklearn.preprocessing import StandardScaler, LabelEncoder\n",
    "    from sklearn.ensemble import RandomForestClassifier\n",
    "    from sklearn.ensemble import GradientBoostingClassifier\n",
    "\n",
    "    future_connections['pref_attachment'] = [list(nx.preferential_attachment(G, [node_pair]))[0][2]\n",
    "                                             for node_pair in future_connections.index]\n",
    "    future_connections['comm_neighbors'] = [len(list(nx.common_neighbors(G, node_pair[0], node_pair[1]))) \n",
    "                                            for node_pair in future_connections.index]\n",
    "    train_data = future_connections[~future_connections['Future Connection'].isnull()]\n",
    "    test_data = future_connections[future_connections['Future Connection'].isnull()]\n",
    "    clf = GradientBoostingClassifier()\n",
    "    clf.fit(train_data[['pref_attachment','comm_neighbors']].values, train_data['Future Connection'].values)\n",
    "    preds = clf.predict_proba(test_data[['pref_attachment','comm_neighbors']].values)[:,1]\n",
    "    return pd.Series(preds, index=test_data.index)\n",
    "\n",
    "new_connections_predictions()"
   ]
  },
  {
   "cell_type": "markdown",
   "id": "ad53d19c-3323-4dd8-a254-8756325a69a5",
   "metadata": {},
   "source": [
    "**Thank You for Reviewing This Project**\n",
    "\n",
    "I appreciate you taking the time to go through my work. Please feel free to reach out if you have any questions, suggestions, or would like to discuss any aspects of this project further.\n",
    "\n",
    "Best Regards,\n",
    "\n",
    "Chaymae\n",
    "##### *Chaymaejawhar@gmail.com*"
   ]
  },
  {
   "cell_type": "code",
   "execution_count": null,
   "id": "9dc09e64-ea6e-41b8-a170-bf97af75cb86",
   "metadata": {},
   "outputs": [],
   "source": []
  }
 ],
 "metadata": {
  "kernelspec": {
   "display_name": "Python 3 (ipykernel)",
   "language": "python",
   "name": "python3"
  },
  "language_info": {
   "codemirror_mode": {
    "name": "ipython",
    "version": 3
   },
   "file_extension": ".py",
   "mimetype": "text/x-python",
   "name": "python",
   "nbconvert_exporter": "python",
   "pygments_lexer": "ipython3",
   "version": "3.9.13"
  }
 },
 "nbformat": 4,
 "nbformat_minor": 5
}
